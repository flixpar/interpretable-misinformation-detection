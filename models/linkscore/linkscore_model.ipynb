{
 "cells": [
  {
   "cell_type": "code",
   "execution_count": 1,
   "metadata": {},
   "outputs": [],
   "source": [
    "import pandas as pd\n",
    "import numpy as np\n",
    "import json\n",
    "import tqdm"
   ]
  },
  {
   "cell_type": "code",
   "execution_count": 2,
   "metadata": {},
   "outputs": [],
   "source": [
    "import sklearn\n",
    "from sklearn import linear_model, svm\n",
    "from sklearn.metrics import classification_report"
   ]
  },
  {
   "cell_type": "code",
   "execution_count": 3,
   "metadata": {},
   "outputs": [],
   "source": [
    "# Very High (VH), High (H), Mostly Factual (MF), Mixed (M), Low (L), Very Low (VL)\n",
    "reliability_lookup = {\n",
    "\t\"VL\": 0,\n",
    "\t\"L\": 1,\n",
    "\t\"M\": 2,\n",
    "\t\"MF\": 3,\n",
    "\t\"H\": 4,\n",
    "\t\"VH\": 5,\n",
    "}"
   ]
  },
  {
   "cell_type": "code",
   "execution_count": 4,
   "metadata": {},
   "outputs": [],
   "source": [
    "links_df = pd.read_csv(\"community_notes_tweets_urls_reliability.csv\")"
   ]
  },
  {
   "cell_type": "code",
   "execution_count": 5,
   "metadata": {},
   "outputs": [],
   "source": [
    "links_dict = links_df.set_index(\"url\").to_dict(\"index\")\n",
    "links_dict = {k: reliability_lookup.get(v[\"rating\"], 2) for k, v in links_dict.items()}"
   ]
  },
  {
   "cell_type": "code",
   "execution_count": 6,
   "metadata": {},
   "outputs": [],
   "source": [
    "with open(\"../../data/community-notes/downloads/tweets.json\", \"r\") as f:\n",
    "\tcn_tweets = json.load(f)\n",
    "cn_tweets = cn_tweets[\"data\"]"
   ]
  },
  {
   "cell_type": "code",
   "execution_count": 7,
   "metadata": {},
   "outputs": [],
   "source": [
    "with open(\"../../data/news-tweets/downloads/tweets.json\", \"r\") as f:\n",
    "\tnews_tweets = json.load(f)\n",
    "news_tweets = news_tweets[\"data\"]"
   ]
  },
  {
   "cell_type": "code",
   "execution_count": 8,
   "metadata": {},
   "outputs": [],
   "source": [
    "def tweet_urls(tweet):\n",
    "\tif \"entities\" in tweet and \"urls\" in tweet[\"entities\"]:\n",
    "\t\treturn [url[\"expanded_url\"] for url in tweet[\"entities\"][\"urls\"]]\n",
    "\telse:\n",
    "\t\treturn []"
   ]
  },
  {
   "cell_type": "code",
   "execution_count": 9,
   "metadata": {},
   "outputs": [],
   "source": [
    "def tweet_urls_reliability(tweet):\n",
    "\turls = tweet_urls(tweet)\n",
    "\turls = [url for url in urls if url in links_dict]\n",
    "\tif len(urls) == 0:\n",
    "\t\treturn 2.5\n",
    "\tscores = [links_dict.get(url, 2.5) for url in urls]\n",
    "\treturn sum(scores) / len(scores)"
   ]
  },
  {
   "cell_type": "code",
   "execution_count": 10,
   "metadata": {},
   "outputs": [],
   "source": [
    "cn_score_list = [{\"tweetId\": t[\"id\"], \"linkscore\": tweet_urls_reliability(t)} for t in cn_tweets]\n",
    "cn_score_df = pd.DataFrame(cn_score_list)"
   ]
  },
  {
   "cell_type": "code",
   "execution_count": 11,
   "metadata": {},
   "outputs": [],
   "source": [
    "news_score_list = [{\"tweetId\": t[\"id\"], \"linkscore\": tweet_urls_reliability(t)} for t in news_tweets]\n",
    "news_score_df = pd.DataFrame(news_score_list)"
   ]
  },
  {
   "cell_type": "code",
   "execution_count": 12,
   "metadata": {},
   "outputs": [],
   "source": [
    "linkscore_raw_df = pd.concat([cn_score_df, news_score_df])\n",
    "linkscore_raw_df.rename(columns={\"linkscore\": \"linkscore_raw\"}, inplace=True)"
   ]
  },
  {
   "cell_type": "code",
   "execution_count": 13,
   "metadata": {},
   "outputs": [],
   "source": [
    "labels_df = pd.read_csv(\"../../data/combined/processed/tweets_cn_news.csv\", dtype={\"tweetId\": str})\n",
    "labels_df = labels_df[[\"tweetId\", \"misleading\"]]\n",
    "labels_df.rename(columns={\"misleading\": \"label\"}, inplace=True)\n",
    "labels_df.label = labels_df.label.apply(lambda x: 1 if x else -1)"
   ]
  },
  {
   "cell_type": "code",
   "execution_count": 14,
   "metadata": {},
   "outputs": [],
   "source": [
    "splits_df = pd.read_csv(\"../../data/combined/processed/splits.csv\", dtype={\"tweetId\": str})\n",
    "splits_dict = splits_df.set_index(\"tweetId\").to_dict()[\"split\"]\n",
    "\n",
    "train_ids = set(splits_df[splits_df.split == \"train\"].tweetId.tolist())\n",
    "val_ids = set(splits_df[splits_df.split == \"val\"].tweetId.tolist())"
   ]
  },
  {
   "cell_type": "code",
   "execution_count": 15,
   "metadata": {},
   "outputs": [],
   "source": [
    "df = pd.merge(labels_df, linkscore_raw_df, on=\"tweetId\", how=\"inner\")\n",
    "train_df = df.loc[df.tweetId.isin(train_ids)].reset_index(drop=True)\n",
    "val_df = df.loc[df.tweetId.isin(val_ids)].reset_index(drop=True)"
   ]
  },
  {
   "cell_type": "code",
   "execution_count": 16,
   "metadata": {},
   "outputs": [
    {
     "name": "stdout",
     "output_type": "stream",
     "text": [
      "                precision    recall  f1-score   support\n",
      "\n",
      "Not Misleading       0.92      0.97      0.94      1425\n",
      "    Misleading       0.93      0.84      0.88       731\n",
      "\n",
      "      accuracy                           0.92      2156\n",
      "     macro avg       0.93      0.90      0.91      2156\n",
      "  weighted avg       0.92      0.92      0.92      2156\n",
      "\n"
     ]
    }
   ],
   "source": [
    "# model = linear_model.LogisticRegression()\n",
    "model = svm.SVC(probability=True)\n",
    "model.fit(train_df[[\"linkscore_raw\"]], train_df[\"label\"])\n",
    "preds = model.predict(val_df[[\"linkscore_raw\"]])\n",
    "print(classification_report(val_df[\"label\"], preds, target_names=[\"Not Misleading\", \"Misleading\"]))"
   ]
  },
  {
   "cell_type": "code",
   "execution_count": 17,
   "metadata": {},
   "outputs": [],
   "source": [
    "preds_all = model.predict(df[[\"linkscore_raw\"]])\n",
    "\n",
    "preds_all_scores = model.predict_proba(df[[\"linkscore_raw\"]])\n",
    "preds_all_scores = preds_all_scores[np.arange(preds_all_scores.shape[0]), preds_all]\n",
    "preds_all_scores = preds_all_scores * preds_all\n",
    "\n",
    "linkscore_df = df.copy()\n",
    "linkscore_df[\"linkscore\"] = preds_all_scores\n",
    "linkscore_df[\"linklabel\"] = preds_all\n",
    "linkscore_df.drop(columns=[\"label\"], inplace=True)\n",
    "linkscore_df.to_csv(\"linkscore.csv\", index=False)"
   ]
  },
  {
   "cell_type": "code",
   "execution_count": 18,
   "metadata": {},
   "outputs": [
    {
     "data": {
      "text/html": [
       "<div>\n",
       "<style scoped>\n",
       "    .dataframe tbody tr th:only-of-type {\n",
       "        vertical-align: middle;\n",
       "    }\n",
       "\n",
       "    .dataframe tbody tr th {\n",
       "        vertical-align: top;\n",
       "    }\n",
       "\n",
       "    .dataframe thead th {\n",
       "        text-align: right;\n",
       "    }\n",
       "</style>\n",
       "<table border=\"1\" class=\"dataframe\">\n",
       "  <thead>\n",
       "    <tr style=\"text-align: right;\">\n",
       "      <th></th>\n",
       "      <th>tweetId</th>\n",
       "      <th>linkscore_raw</th>\n",
       "      <th>linkscore</th>\n",
       "      <th>linklabel</th>\n",
       "    </tr>\n",
       "  </thead>\n",
       "  <tbody>\n",
       "    <tr>\n",
       "      <th>0</th>\n",
       "      <td>253611215190896642</td>\n",
       "      <td>2.0</td>\n",
       "      <td>-0.078777</td>\n",
       "      <td>-1</td>\n",
       "    </tr>\n",
       "    <tr>\n",
       "      <th>1</th>\n",
       "      <td>443584873048309760</td>\n",
       "      <td>2.0</td>\n",
       "      <td>-0.078777</td>\n",
       "      <td>-1</td>\n",
       "    </tr>\n",
       "    <tr>\n",
       "      <th>2</th>\n",
       "      <td>618437306769215488</td>\n",
       "      <td>2.5</td>\n",
       "      <td>0.933688</td>\n",
       "      <td>1</td>\n",
       "    </tr>\n",
       "    <tr>\n",
       "      <th>3</th>\n",
       "      <td>642098739272773632</td>\n",
       "      <td>2.0</td>\n",
       "      <td>-0.078777</td>\n",
       "      <td>-1</td>\n",
       "    </tr>\n",
       "    <tr>\n",
       "      <th>4</th>\n",
       "      <td>712708069369782272</td>\n",
       "      <td>2.5</td>\n",
       "      <td>0.933688</td>\n",
       "      <td>1</td>\n",
       "    </tr>\n",
       "    <tr>\n",
       "      <th>...</th>\n",
       "      <td>...</td>\n",
       "      <td>...</td>\n",
       "      <td>...</td>\n",
       "      <td>...</td>\n",
       "    </tr>\n",
       "    <tr>\n",
       "      <th>10775</th>\n",
       "      <td>1603168527191506944</td>\n",
       "      <td>4.0</td>\n",
       "      <td>-0.078631</td>\n",
       "      <td>-1</td>\n",
       "    </tr>\n",
       "    <tr>\n",
       "      <th>10776</th>\n",
       "      <td>1603168547152318471</td>\n",
       "      <td>4.0</td>\n",
       "      <td>-0.078631</td>\n",
       "      <td>-1</td>\n",
       "    </tr>\n",
       "    <tr>\n",
       "      <th>10777</th>\n",
       "      <td>1603168554710204417</td>\n",
       "      <td>3.0</td>\n",
       "      <td>-0.078762</td>\n",
       "      <td>-1</td>\n",
       "    </tr>\n",
       "    <tr>\n",
       "      <th>10778</th>\n",
       "      <td>1603168595370024960</td>\n",
       "      <td>3.0</td>\n",
       "      <td>-0.078762</td>\n",
       "      <td>-1</td>\n",
       "    </tr>\n",
       "    <tr>\n",
       "      <th>10779</th>\n",
       "      <td>1603168659647635456</td>\n",
       "      <td>2.0</td>\n",
       "      <td>-0.078777</td>\n",
       "      <td>-1</td>\n",
       "    </tr>\n",
       "  </tbody>\n",
       "</table>\n",
       "<p>10780 rows × 4 columns</p>\n",
       "</div>"
      ],
      "text/plain": [
       "                   tweetId  linkscore_raw  linkscore  linklabel\n",
       "0       253611215190896642            2.0  -0.078777         -1\n",
       "1       443584873048309760            2.0  -0.078777         -1\n",
       "2       618437306769215488            2.5   0.933688          1\n",
       "3       642098739272773632            2.0  -0.078777         -1\n",
       "4       712708069369782272            2.5   0.933688          1\n",
       "...                    ...            ...        ...        ...\n",
       "10775  1603168527191506944            4.0  -0.078631         -1\n",
       "10776  1603168547152318471            4.0  -0.078631         -1\n",
       "10777  1603168554710204417            3.0  -0.078762         -1\n",
       "10778  1603168595370024960            3.0  -0.078762         -1\n",
       "10779  1603168659647635456            2.0  -0.078777         -1\n",
       "\n",
       "[10780 rows x 4 columns]"
      ]
     },
     "execution_count": 18,
     "metadata": {},
     "output_type": "execute_result"
    }
   ],
   "source": [
    "linkscore_df"
   ]
  },
  {
   "cell_type": "code",
   "execution_count": null,
   "metadata": {},
   "outputs": [],
   "source": []
  }
 ],
 "metadata": {
  "kernelspec": {
   "display_name": "Python 3",
   "language": "python",
   "name": "python3"
  },
  "language_info": {
   "codemirror_mode": {
    "name": "ipython",
    "version": 3
   },
   "file_extension": ".py",
   "mimetype": "text/x-python",
   "name": "python",
   "nbconvert_exporter": "python",
   "pygments_lexer": "ipython3",
   "version": "3.10.8"
  },
  "orig_nbformat": 4,
  "vscode": {
   "interpreter": {
    "hash": "aee8b7b246df8f9039afb4144a1f6fd8d2ca17a180786b69acc140d282b71a49"
   }
  }
 },
 "nbformat": 4,
 "nbformat_minor": 2
}
