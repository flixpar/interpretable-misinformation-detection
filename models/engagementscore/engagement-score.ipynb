{
 "cells": [
  {
   "cell_type": "code",
   "execution_count": 1,
   "metadata": {},
   "outputs": [],
   "source": [
    "import pandas as pd\n",
    "import numpy as np"
   ]
  },
  {
   "cell_type": "code",
   "execution_count": 2,
   "metadata": {},
   "outputs": [],
   "source": [
    "import sklearn\n",
    "from sklearn import linear_model, svm\n",
    "from sklearn.metrics import classification_report"
   ]
  },
  {
   "cell_type": "code",
   "execution_count": 3,
   "metadata": {},
   "outputs": [],
   "source": [
    "data = pd.read_csv(\"../../data/combined/processed/tweets_cn_news.csv\")\n",
    "data = data[[\"tweetId\", \"misleading\", \"likes\", \"replies\", \"retweets\", \"quotes\"]]\n",
    "\n",
    "data.rename(columns={\"misleading\": \"label\"}, inplace=True)\n",
    "data.label = data.label.apply(lambda x: 1 if x else -1)\n",
    "\n",
    "splits = pd.read_csv(\"../../data/combined/processed/splits.csv\")\n",
    "train_ids = set(splits[splits[\"split\"] == \"train\"][\"tweetId\"].values)\n",
    "val_ids = set(splits[splits[\"split\"] == \"val\"][\"tweetId\"].values)\n",
    "\n",
    "data_train = data[data[\"tweetId\"].isin(train_ids)]\n",
    "data_val = data[data[\"tweetId\"].isin(val_ids)]"
   ]
  },
  {
   "cell_type": "code",
   "execution_count": 4,
   "metadata": {},
   "outputs": [
    {
     "data": {
      "text/html": [
       "<div>\n",
       "<style scoped>\n",
       "    .dataframe tbody tr th:only-of-type {\n",
       "        vertical-align: middle;\n",
       "    }\n",
       "\n",
       "    .dataframe tbody tr th {\n",
       "        vertical-align: top;\n",
       "    }\n",
       "\n",
       "    .dataframe thead th {\n",
       "        text-align: right;\n",
       "    }\n",
       "</style>\n",
       "<table border=\"1\" class=\"dataframe\">\n",
       "  <thead>\n",
       "    <tr style=\"text-align: right;\">\n",
       "      <th></th>\n",
       "      <th>tweetId</th>\n",
       "      <th>label</th>\n",
       "      <th>likes</th>\n",
       "      <th>replies</th>\n",
       "      <th>retweets</th>\n",
       "      <th>quotes</th>\n",
       "    </tr>\n",
       "  </thead>\n",
       "  <tbody>\n",
       "    <tr>\n",
       "      <th>0</th>\n",
       "      <td>253611215190896642</td>\n",
       "      <td>1</td>\n",
       "      <td>468</td>\n",
       "      <td>273</td>\n",
       "      <td>431</td>\n",
       "      <td>258</td>\n",
       "    </tr>\n",
       "    <tr>\n",
       "      <th>1</th>\n",
       "      <td>443584873048309760</td>\n",
       "      <td>1</td>\n",
       "      <td>7984</td>\n",
       "      <td>8461</td>\n",
       "      <td>4276</td>\n",
       "      <td>10943</td>\n",
       "    </tr>\n",
       "    <tr>\n",
       "      <th>2</th>\n",
       "      <td>618437306769215488</td>\n",
       "      <td>1</td>\n",
       "      <td>831</td>\n",
       "      <td>775</td>\n",
       "      <td>1054</td>\n",
       "      <td>8</td>\n",
       "    </tr>\n",
       "    <tr>\n",
       "      <th>3</th>\n",
       "      <td>642098739272773632</td>\n",
       "      <td>-1</td>\n",
       "      <td>23676</td>\n",
       "      <td>1973</td>\n",
       "      <td>21133</td>\n",
       "      <td>4893</td>\n",
       "    </tr>\n",
       "    <tr>\n",
       "      <th>4</th>\n",
       "      <td>712708069369782272</td>\n",
       "      <td>1</td>\n",
       "      <td>34744</td>\n",
       "      <td>10776</td>\n",
       "      <td>18566</td>\n",
       "      <td>30613</td>\n",
       "    </tr>\n",
       "    <tr>\n",
       "      <th>...</th>\n",
       "      <td>...</td>\n",
       "      <td>...</td>\n",
       "      <td>...</td>\n",
       "      <td>...</td>\n",
       "      <td>...</td>\n",
       "      <td>...</td>\n",
       "    </tr>\n",
       "    <tr>\n",
       "      <th>10775</th>\n",
       "      <td>1603168527191506944</td>\n",
       "      <td>-1</td>\n",
       "      <td>0</td>\n",
       "      <td>0</td>\n",
       "      <td>0</td>\n",
       "      <td>0</td>\n",
       "    </tr>\n",
       "    <tr>\n",
       "      <th>10776</th>\n",
       "      <td>1603168547152318471</td>\n",
       "      <td>-1</td>\n",
       "      <td>0</td>\n",
       "      <td>0</td>\n",
       "      <td>0</td>\n",
       "      <td>0</td>\n",
       "    </tr>\n",
       "    <tr>\n",
       "      <th>10777</th>\n",
       "      <td>1603168554710204417</td>\n",
       "      <td>-1</td>\n",
       "      <td>0</td>\n",
       "      <td>0</td>\n",
       "      <td>0</td>\n",
       "      <td>0</td>\n",
       "    </tr>\n",
       "    <tr>\n",
       "      <th>10778</th>\n",
       "      <td>1603168595370024960</td>\n",
       "      <td>-1</td>\n",
       "      <td>0</td>\n",
       "      <td>0</td>\n",
       "      <td>0</td>\n",
       "      <td>0</td>\n",
       "    </tr>\n",
       "    <tr>\n",
       "      <th>10779</th>\n",
       "      <td>1603168659647635456</td>\n",
       "      <td>-1</td>\n",
       "      <td>0</td>\n",
       "      <td>0</td>\n",
       "      <td>0</td>\n",
       "      <td>0</td>\n",
       "    </tr>\n",
       "  </tbody>\n",
       "</table>\n",
       "<p>10780 rows × 6 columns</p>\n",
       "</div>"
      ],
      "text/plain": [
       "                   tweetId  label  likes  replies  retweets  quotes\n",
       "0       253611215190896642      1    468      273       431     258\n",
       "1       443584873048309760      1   7984     8461      4276   10943\n",
       "2       618437306769215488      1    831      775      1054       8\n",
       "3       642098739272773632     -1  23676     1973     21133    4893\n",
       "4       712708069369782272      1  34744    10776     18566   30613\n",
       "...                    ...    ...    ...      ...       ...     ...\n",
       "10775  1603168527191506944     -1      0        0         0       0\n",
       "10776  1603168547152318471     -1      0        0         0       0\n",
       "10777  1603168554710204417     -1      0        0         0       0\n",
       "10778  1603168595370024960     -1      0        0         0       0\n",
       "10779  1603168659647635456     -1      0        0         0       0\n",
       "\n",
       "[10780 rows x 6 columns]"
      ]
     },
     "execution_count": 4,
     "metadata": {},
     "output_type": "execute_result"
    }
   ],
   "source": [
    "data"
   ]
  },
  {
   "cell_type": "code",
   "execution_count": 5,
   "metadata": {},
   "outputs": [
    {
     "name": "stdout",
     "output_type": "stream",
     "text": [
      "                precision    recall  f1-score   support\n",
      "\n",
      "Not Misleading       0.85      0.97      0.91      1425\n",
      "    Misleading       0.93      0.68      0.78       731\n",
      "\n",
      "      accuracy                           0.87      2156\n",
      "     macro avg       0.89      0.83      0.85      2156\n",
      "  weighted avg       0.88      0.87      0.87      2156\n",
      "\n"
     ]
    }
   ],
   "source": [
    "model = svm.SVC(probability=True)\n",
    "model.fit(data_train[[\"likes\", \"replies\", \"retweets\", \"quotes\"]], data_train[\"label\"])\n",
    "preds = model.predict(data_val[[\"likes\", \"replies\", \"retweets\", \"quotes\"]])\n",
    "print(classification_report(data_val[\"label\"], preds, target_names=[\"Not Misleading\", \"Misleading\"]))"
   ]
  },
  {
   "cell_type": "code",
   "execution_count": 6,
   "metadata": {},
   "outputs": [
    {
     "name": "stdout",
     "output_type": "stream",
     "text": [
      "Engagement score accuracy: 0.87291280148423\n",
      "Engagement score precision: 0.9287054409005628\n",
      "Engagement score recall: 0.6771545827633378\n"
     ]
    }
   ],
   "source": [
    "print(\"Engagement score accuracy:\", sklearn.metrics.accuracy_score(data_val[\"label\"], preds))\n",
    "print(\"Engagement score precision:\", sklearn.metrics.precision_score(data_val[\"label\"], preds))\n",
    "print(\"Engagement score recall:\", sklearn.metrics.recall_score(data_val[\"label\"], preds))"
   ]
  },
  {
   "cell_type": "code",
   "execution_count": 7,
   "metadata": {},
   "outputs": [],
   "source": [
    "preds_all = model.predict(data[[\"likes\", \"replies\", \"retweets\", \"quotes\"]])\n",
    "\n",
    "preds_all_scores = model.predict_proba(data[[\"likes\", \"replies\", \"retweets\", \"quotes\"]])\n",
    "preds_all_scores = preds_all_scores[np.arange(preds_all_scores.shape[0]), preds_all]\n",
    "preds_all_scores = preds_all_scores * preds_all\n",
    "\n",
    "predictions = pd.DataFrame({\"tweetId\": data[\"tweetId\"], \"engagementlabel\": preds_all, \"engagementscore\": preds_all_scores})\n",
    "predictions.to_csv(\"engagementscores.csv\", index=False)"
   ]
  },
  {
   "cell_type": "code",
   "execution_count": null,
   "metadata": {},
   "outputs": [],
   "source": []
  }
 ],
 "metadata": {
  "kernelspec": {
   "display_name": "Python 3",
   "language": "python",
   "name": "python3"
  },
  "language_info": {
   "codemirror_mode": {
    "name": "ipython",
    "version": 3
   },
   "file_extension": ".py",
   "mimetype": "text/x-python",
   "name": "python",
   "nbconvert_exporter": "python",
   "pygments_lexer": "ipython3",
   "version": "3.10.8"
  },
  "orig_nbformat": 4,
  "vscode": {
   "interpreter": {
    "hash": "aee8b7b246df8f9039afb4144a1f6fd8d2ca17a180786b69acc140d282b71a49"
   }
  }
 },
 "nbformat": 4,
 "nbformat_minor": 2
}
