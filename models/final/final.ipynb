{
 "cells": [
  {
   "cell_type": "code",
   "execution_count": 1,
   "metadata": {},
   "outputs": [],
   "source": [
    "import pandas as pd\n",
    "import numpy as np"
   ]
  },
  {
   "cell_type": "code",
   "execution_count": 2,
   "metadata": {},
   "outputs": [],
   "source": [
    "import sklearn\n",
    "from sklearn import linear_model, svm\n",
    "from sklearn.metrics import classification_report"
   ]
  },
  {
   "cell_type": "code",
   "execution_count": 3,
   "metadata": {},
   "outputs": [],
   "source": [
    "textscores_df = pd.read_csv(\"textscores_1671191407926.csv\")\n",
    "textscores_df.rename(columns={\"label\": \"true_label\", \"pred\": \"textlabel\", \"pred_score\": \"textscore\"}, inplace=True)\n",
    "\n",
    "linkscores_df = pd.read_csv(\"linkscore.csv\")\n",
    "engagementscores_df = pd.read_csv(\"engagementscores.csv\")\n",
    "userscores_df = pd.read_csv(\"userscores.csv\")\n",
    "\n",
    "data = pd.merge(textscores_df, linkscores_df, on=\"tweetId\").merge(engagementscores_df, on=\"tweetId\").merge(userscores_df, on=\"tweetId\")\n",
    "\n",
    "data_train = data.loc[data.split == \"train\"].reset_index(drop=True)\n",
    "data_val = data.loc[data.split == \"val\"].reset_index(drop=True)"
   ]
  },
  {
   "cell_type": "code",
   "execution_count": 4,
   "metadata": {},
   "outputs": [],
   "source": [
    "x_cols = [\"textscore\", \"linkscore\", \"engagementscore\", \"userscore\"]\n",
    "y_col = \"true_label\""
   ]
  },
  {
   "cell_type": "code",
   "execution_count": 5,
   "metadata": {},
   "outputs": [
    {
     "data": {
      "text/html": [
       "<div>\n",
       "<style scoped>\n",
       "    .dataframe tbody tr th:only-of-type {\n",
       "        vertical-align: middle;\n",
       "    }\n",
       "\n",
       "    .dataframe tbody tr th {\n",
       "        vertical-align: top;\n",
       "    }\n",
       "\n",
       "    .dataframe thead th {\n",
       "        text-align: right;\n",
       "    }\n",
       "</style>\n",
       "<table border=\"1\" class=\"dataframe\">\n",
       "  <thead>\n",
       "    <tr style=\"text-align: right;\">\n",
       "      <th></th>\n",
       "      <th>tweetId</th>\n",
       "      <th>split</th>\n",
       "      <th>true_label</th>\n",
       "      <th>textlabel</th>\n",
       "      <th>textscore</th>\n",
       "      <th>linkscore</th>\n",
       "      <th>engagementlabel</th>\n",
       "      <th>engagementscore</th>\n",
       "      <th>userlabel</th>\n",
       "      <th>userscore</th>\n",
       "    </tr>\n",
       "  </thead>\n",
       "  <tbody>\n",
       "    <tr>\n",
       "      <th>0</th>\n",
       "      <td>253611215190896642</td>\n",
       "      <td>train</td>\n",
       "      <td>1</td>\n",
       "      <td>1</td>\n",
       "      <td>0.959302</td>\n",
       "      <td>2.0</td>\n",
       "      <td>-1</td>\n",
       "      <td>-0.262399</td>\n",
       "      <td>1</td>\n",
       "      <td>0.359550</td>\n",
       "    </tr>\n",
       "    <tr>\n",
       "      <th>1</th>\n",
       "      <td>443584873048309760</td>\n",
       "      <td>val</td>\n",
       "      <td>1</td>\n",
       "      <td>1</td>\n",
       "      <td>0.999068</td>\n",
       "      <td>2.0</td>\n",
       "      <td>1</td>\n",
       "      <td>1.000000</td>\n",
       "      <td>1</td>\n",
       "      <td>0.358064</td>\n",
       "    </tr>\n",
       "    <tr>\n",
       "      <th>2</th>\n",
       "      <td>618437306769215488</td>\n",
       "      <td>train</td>\n",
       "      <td>1</td>\n",
       "      <td>1</td>\n",
       "      <td>0.991276</td>\n",
       "      <td>2.5</td>\n",
       "      <td>-1</td>\n",
       "      <td>-0.470649</td>\n",
       "      <td>1</td>\n",
       "      <td>0.354376</td>\n",
       "    </tr>\n",
       "    <tr>\n",
       "      <th>3</th>\n",
       "      <td>642098739272773632</td>\n",
       "      <td>val</td>\n",
       "      <td>-1</td>\n",
       "      <td>-1</td>\n",
       "      <td>-0.733052</td>\n",
       "      <td>2.0</td>\n",
       "      <td>1</td>\n",
       "      <td>1.000000</td>\n",
       "      <td>1</td>\n",
       "      <td>0.363188</td>\n",
       "    </tr>\n",
       "    <tr>\n",
       "      <th>4</th>\n",
       "      <td>712708069369782272</td>\n",
       "      <td>val</td>\n",
       "      <td>1</td>\n",
       "      <td>1</td>\n",
       "      <td>0.841321</td>\n",
       "      <td>2.5</td>\n",
       "      <td>1</td>\n",
       "      <td>1.000000</td>\n",
       "      <td>1</td>\n",
       "      <td>0.337059</td>\n",
       "    </tr>\n",
       "    <tr>\n",
       "      <th>...</th>\n",
       "      <td>...</td>\n",
       "      <td>...</td>\n",
       "      <td>...</td>\n",
       "      <td>...</td>\n",
       "      <td>...</td>\n",
       "      <td>...</td>\n",
       "      <td>...</td>\n",
       "      <td>...</td>\n",
       "      <td>...</td>\n",
       "      <td>...</td>\n",
       "    </tr>\n",
       "    <tr>\n",
       "      <th>10775</th>\n",
       "      <td>1603168527191506944</td>\n",
       "      <td>train</td>\n",
       "      <td>-1</td>\n",
       "      <td>-1</td>\n",
       "      <td>-0.991609</td>\n",
       "      <td>4.0</td>\n",
       "      <td>-1</td>\n",
       "      <td>-0.121793</td>\n",
       "      <td>-1</td>\n",
       "      <td>-0.291264</td>\n",
       "    </tr>\n",
       "    <tr>\n",
       "      <th>10776</th>\n",
       "      <td>1603168547152318471</td>\n",
       "      <td>train</td>\n",
       "      <td>-1</td>\n",
       "      <td>-1</td>\n",
       "      <td>-0.998769</td>\n",
       "      <td>4.0</td>\n",
       "      <td>-1</td>\n",
       "      <td>-0.121793</td>\n",
       "      <td>-1</td>\n",
       "      <td>-0.313816</td>\n",
       "    </tr>\n",
       "    <tr>\n",
       "      <th>10777</th>\n",
       "      <td>1603168554710204417</td>\n",
       "      <td>train</td>\n",
       "      <td>-1</td>\n",
       "      <td>-1</td>\n",
       "      <td>-0.999677</td>\n",
       "      <td>3.0</td>\n",
       "      <td>-1</td>\n",
       "      <td>-0.121793</td>\n",
       "      <td>1</td>\n",
       "      <td>0.334152</td>\n",
       "    </tr>\n",
       "    <tr>\n",
       "      <th>10778</th>\n",
       "      <td>1603168595370024960</td>\n",
       "      <td>train</td>\n",
       "      <td>-1</td>\n",
       "      <td>-1</td>\n",
       "      <td>-0.994042</td>\n",
       "      <td>3.0</td>\n",
       "      <td>-1</td>\n",
       "      <td>-0.121793</td>\n",
       "      <td>1</td>\n",
       "      <td>0.362238</td>\n",
       "    </tr>\n",
       "    <tr>\n",
       "      <th>10779</th>\n",
       "      <td>1603168659647635456</td>\n",
       "      <td>train</td>\n",
       "      <td>-1</td>\n",
       "      <td>-1</td>\n",
       "      <td>-0.999333</td>\n",
       "      <td>2.0</td>\n",
       "      <td>-1</td>\n",
       "      <td>-0.121793</td>\n",
       "      <td>1</td>\n",
       "      <td>0.329615</td>\n",
       "    </tr>\n",
       "  </tbody>\n",
       "</table>\n",
       "<p>10780 rows × 10 columns</p>\n",
       "</div>"
      ],
      "text/plain": [
       "                   tweetId  split  true_label  textlabel  textscore  \\\n",
       "0       253611215190896642  train           1          1   0.959302   \n",
       "1       443584873048309760    val           1          1   0.999068   \n",
       "2       618437306769215488  train           1          1   0.991276   \n",
       "3       642098739272773632    val          -1         -1  -0.733052   \n",
       "4       712708069369782272    val           1          1   0.841321   \n",
       "...                    ...    ...         ...        ...        ...   \n",
       "10775  1603168527191506944  train          -1         -1  -0.991609   \n",
       "10776  1603168547152318471  train          -1         -1  -0.998769   \n",
       "10777  1603168554710204417  train          -1         -1  -0.999677   \n",
       "10778  1603168595370024960  train          -1         -1  -0.994042   \n",
       "10779  1603168659647635456  train          -1         -1  -0.999333   \n",
       "\n",
       "       linkscore  engagementlabel  engagementscore  userlabel  userscore  \n",
       "0            2.0               -1        -0.262399          1   0.359550  \n",
       "1            2.0                1         1.000000          1   0.358064  \n",
       "2            2.5               -1        -0.470649          1   0.354376  \n",
       "3            2.0                1         1.000000          1   0.363188  \n",
       "4            2.5                1         1.000000          1   0.337059  \n",
       "...          ...              ...              ...        ...        ...  \n",
       "10775        4.0               -1        -0.121793         -1  -0.291264  \n",
       "10776        4.0               -1        -0.121793         -1  -0.313816  \n",
       "10777        3.0               -1        -0.121793          1   0.334152  \n",
       "10778        3.0               -1        -0.121793          1   0.362238  \n",
       "10779        2.0               -1        -0.121793          1   0.329615  \n",
       "\n",
       "[10780 rows x 10 columns]"
      ]
     },
     "execution_count": 5,
     "metadata": {},
     "output_type": "execute_result"
    }
   ],
   "source": [
    "data"
   ]
  },
  {
   "cell_type": "code",
   "execution_count": 6,
   "metadata": {},
   "outputs": [
    {
     "name": "stdout",
     "output_type": "stream",
     "text": [
      "                precision    recall  f1-score   support\n",
      "\n",
      "Not Misleading       0.97      0.98      0.97      1425\n",
      "    Misleading       0.96      0.95      0.95       731\n",
      "\n",
      "      accuracy                           0.97      2156\n",
      "     macro avg       0.96      0.96      0.96      2156\n",
      "  weighted avg       0.97      0.97      0.97      2156\n",
      "\n"
     ]
    }
   ],
   "source": [
    "model = linear_model.LogisticRegression()\n",
    "model.fit(data_train[x_cols], data_train[y_col])\n",
    "preds = model.predict(data_val[x_cols])\n",
    "print(classification_report(data_val[y_col], preds, target_names=[\"Not Misleading\", \"Misleading\"]))"
   ]
  },
  {
   "cell_type": "code",
   "execution_count": 7,
   "metadata": {},
   "outputs": [
    {
     "name": "stdout",
     "output_type": "stream",
     "text": [
      "Model accuracy: 0.9666048237476809\n",
      "Model precision: 0.9557399723374828\n",
      "Model recall: 0.945280437756498\n"
     ]
    }
   ],
   "source": [
    "print(\"Model accuracy:\", sklearn.metrics.accuracy_score(data_val[y_col], preds))\n",
    "print(\"Model precision:\", sklearn.metrics.precision_score(data_val[y_col], preds))\n",
    "print(\"Model recall:\", sklearn.metrics.recall_score(data_val[y_col], preds))"
   ]
  },
  {
   "cell_type": "code",
   "execution_count": 8,
   "metadata": {},
   "outputs": [
    {
     "data": {
      "text/plain": [
       "array([[37.94179169,  0.41136234,  9.0050974 ,  1.30965132]])"
      ]
     },
     "execution_count": 8,
     "metadata": {},
     "output_type": "execute_result"
    }
   ],
   "source": [
    "np.exp(model.coef_)"
   ]
  },
  {
   "cell_type": "code",
   "execution_count": null,
   "metadata": {},
   "outputs": [],
   "source": []
  }
 ],
 "metadata": {
  "kernelspec": {
   "display_name": "Python 3",
   "language": "python",
   "name": "python3"
  },
  "language_info": {
   "codemirror_mode": {
    "name": "ipython",
    "version": 3
   },
   "file_extension": ".py",
   "mimetype": "text/x-python",
   "name": "python",
   "nbconvert_exporter": "python",
   "pygments_lexer": "ipython3",
   "version": "3.10.8"
  },
  "orig_nbformat": 4,
  "vscode": {
   "interpreter": {
    "hash": "aee8b7b246df8f9039afb4144a1f6fd8d2ca17a180786b69acc140d282b71a49"
   }
  }
 },
 "nbformat": 4,
 "nbformat_minor": 2
}
