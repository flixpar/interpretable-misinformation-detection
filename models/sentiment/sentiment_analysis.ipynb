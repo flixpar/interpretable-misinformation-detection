{
  "nbformat": 4,
  "nbformat_minor": 0,
  "metadata": {
    "colab": {
      "provenance": [],
      "collapsed_sections": [
        "G6sXMu_wxbHX"
      ]
    },
    "kernelspec": {
      "name": "python3",
      "display_name": "Python 3"
    },
    "language_info": {
      "name": "python"
    },
    "accelerator": "GPU",
    "gpuClass": "standard"
  },
  "cells": [
    {
      "cell_type": "markdown",
      "source": [
        "# Sentiment/Emotion Analysis Inference for Interpretable Misinformation Detection"
      ],
      "metadata": {
        "id": "gb-lGW_exiWF"
      }
    },
    {
      "cell_type": "markdown",
      "source": [
        "## Setup"
      ],
      "metadata": {
        "id": "G6sXMu_wxbHX"
      }
    },
    {
      "cell_type": "code",
      "execution_count": null,
      "metadata": {
        "id": "21AgTDBUuq7O"
      },
      "outputs": [],
      "source": [
        "!pip -q install transformers datasets evaluate"
      ]
    },
    {
      "cell_type": "code",
      "source": [
        "import numpy as np\n",
        "import pandas as pd\n",
        "import torch"
      ],
      "metadata": {
        "id": "UnIWVdj7vCfz"
      },
      "execution_count": null,
      "outputs": []
    },
    {
      "cell_type": "code",
      "source": [
        "from transformers import AutoTokenizer, AutoModelForSequenceClassification\n",
        "from transformers import pipeline\n",
        "from datasets import Dataset\n",
        "import evaluate"
      ],
      "metadata": {
        "id": "eP5Gu9jVu85a"
      },
      "execution_count": null,
      "outputs": []
    },
    {
      "cell_type": "code",
      "source": [
        "import tqdm"
      ],
      "metadata": {
        "id": "CXwtoxOK2Gra"
      },
      "execution_count": null,
      "outputs": []
    },
    {
      "cell_type": "code",
      "source": [
        "from google.colab import drive\n",
        "drive.mount(\"/gdrive\")"
      ],
      "metadata": {
        "id": "clZz5o9UvF17"
      },
      "execution_count": null,
      "outputs": []
    },
    {
      "cell_type": "code",
      "source": [
        "from pathlib import Path\n",
        "basepath = Path(\"/gdrive/My Drive/Interpretable Misinformation Detection/\")"
      ],
      "metadata": {
        "id": "yOWB3noyvg-0"
      },
      "execution_count": null,
      "outputs": []
    },
    {
      "cell_type": "markdown",
      "source": [
        "## Parameters"
      ],
      "metadata": {
        "id": "LWCqOOLvyBGs"
      }
    },
    {
      "cell_type": "code",
      "source": [
        "# MODEL = \"cardiffnlp/twitter-roberta-base-sentiment-latest\"\n",
        "MODEL = \"cardiffnlp/twitter-roberta-base-emotion\""
      ],
      "metadata": {
        "id": "ZmxUxeLbyG3S"
      },
      "execution_count": null,
      "outputs": []
    },
    {
      "cell_type": "markdown",
      "source": [
        "## Data"
      ],
      "metadata": {
        "id": "OCcBsel7xc_l"
      }
    },
    {
      "cell_type": "code",
      "source": [
        "labels_df = pd.read_csv(basepath.joinpath(\"data/community-notes/community_notes.csv\"))\n",
        "tweets_df = pd.read_csv(basepath.joinpath(\"data/community-notes/tweets.csv\"))\n",
        "news_tweets_df = pd.read_csv(basepath.joinpath(\"data/news_tweets.csv\"))"
      ],
      "metadata": {
        "id": "NYOOchJ2vjf8"
      },
      "execution_count": null,
      "outputs": []
    },
    {
      "cell_type": "code",
      "source": [
        "tweets_df = tweets_df.loc[tweets_df.content.notna()]\n",
        "news_tweets_df = news_tweets_df.loc[news_tweets_df.content.notna()]"
      ],
      "metadata": {
        "id": "S2o-r62yvmQ_"
      },
      "execution_count": null,
      "outputs": []
    },
    {
      "cell_type": "code",
      "source": [
        "labels_dict = labels_df.set_index(\"tweetId\").to_dict(\"index\")\n",
        "tweets_dict = tweets_df.set_index(\"tweetId\").to_dict(\"index\")\n",
        "news_tweets_dict = news_tweets_df.set_index(\"tweetId\").to_dict(\"index\")"
      ],
      "metadata": {
        "id": "rKjYFKGnvoSN"
      },
      "execution_count": null,
      "outputs": []
    },
    {
      "cell_type": "code",
      "source": [
        "cn_tweets_ids = list(set.intersection(set(labels_df.tweetId.tolist()), set(tweets_df.tweetId.tolist())))\n",
        "news_tweets_ids = news_tweets_dict.keys()\n",
        "tweet_ids = list(set.union(set(cn_tweets_ids), set(news_tweets_ids)))\n",
        "\n",
        "cn_data = [{\"id\": i, \"text\": tweets_dict[i][\"content\"], \"label\": int(labels_dict[i][\"misleading\"])} for i in cn_tweets_ids]\n",
        "news_data = [{\"id\": i, \"text\": news_tweets_dict[i][\"content\"], \"label\": 0} for i in news_tweets_ids]\n",
        "\n",
        "alldata = cn_data + news_data"
      ],
      "metadata": {
        "id": "TRXM_gYBvsXJ"
      },
      "execution_count": null,
      "outputs": []
    },
    {
      "cell_type": "code",
      "source": [
        "np.random.seed(0)\n",
        "inds = np.arange(len(alldata), dtype=int)\n",
        "np.random.shuffle(inds)\n",
        "k = int(np.floor(0.8 * len(inds)))\n",
        "train_inds = inds[:k]\n",
        "val_inds = inds[k:]"
      ],
      "metadata": {
        "id": "v2XTB-sQvvXA"
      },
      "execution_count": null,
      "outputs": []
    },
    {
      "cell_type": "code",
      "source": [
        "dataset_train = [alldata[i] for i in train_inds]\n",
        "dataset_val = [alldata[i] for i in val_inds]\n",
        "\n",
        "dataset_all = Dataset.from_list(alldata)\n",
        "dataset_train = Dataset.from_list(dataset_train)\n",
        "dataset_val = Dataset.from_list(dataset_val)"
      ],
      "metadata": {
        "id": "I_Ht__1CzKho"
      },
      "execution_count": null,
      "outputs": []
    },
    {
      "cell_type": "markdown",
      "source": [
        "## Model"
      ],
      "metadata": {
        "id": "3AkxR_gcxepD"
      }
    },
    {
      "cell_type": "code",
      "source": [
        "tokenizer = AutoTokenizer.from_pretrained(MODEL)\n",
        "model = AutoModelForSequenceClassification.from_pretrained(MODEL)"
      ],
      "metadata": {
        "id": "nqYlCwiYzfoY"
      },
      "execution_count": null,
      "outputs": []
    },
    {
      "cell_type": "code",
      "source": [
        "inf_pipeline = pipeline(task=\"text-classification\", model=model, tokenizer=tokenizer, device=torch.device(\"cuda:0\"))"
      ],
      "metadata": {
        "id": "pnqr9JRLxhh2"
      },
      "execution_count": null,
      "outputs": []
    },
    {
      "cell_type": "markdown",
      "source": [
        "## Inference"
      ],
      "metadata": {
        "id": "Ezvj9JHvxgzl"
      }
    },
    {
      "cell_type": "code",
      "source": [
        "results = {ex[\"id\"]: inf_pipeline(ex[\"text\"]) for ex in tqdm.tqdm(dataset_all)}"
      ],
      "metadata": {
        "id": "MhLcGwh4zt9b"
      },
      "execution_count": null,
      "outputs": []
    },
    {
      "cell_type": "code",
      "source": [
        "results_list = [{\"tweetId\": i, **results.get(i)[0]} for i in tweet_ids if results.get(i) is not None]\n",
        "results_df = pd.DataFrame(results_list)\n",
        "results_df.to_csv(basepath.joinpath(\"results/tweets-emotion.csv\"), index=False)"
      ],
      "metadata": {
        "id": "hGARv3zH2dw2"
      },
      "execution_count": null,
      "outputs": []
    },
    {
      "cell_type": "code",
      "source": [
        "results_df"
      ],
      "metadata": {
        "id": "V_twi1rF4lWP"
      },
      "execution_count": null,
      "outputs": []
    },
    {
      "cell_type": "code",
      "source": [],
      "metadata": {
        "id": "tTcO6jsz55AH"
      },
      "execution_count": null,
      "outputs": []
    }
  ]
}