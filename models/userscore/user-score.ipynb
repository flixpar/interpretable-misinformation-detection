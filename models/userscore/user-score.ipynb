{
 "cells": [
  {
   "cell_type": "code",
   "execution_count": 1,
   "metadata": {},
   "outputs": [],
   "source": [
    "import pandas as pd\n",
    "import numpy as np"
   ]
  },
  {
   "cell_type": "code",
   "execution_count": 2,
   "metadata": {},
   "outputs": [],
   "source": [
    "import sklearn\n",
    "from sklearn import linear_model, svm\n",
    "from sklearn.metrics import classification_report"
   ]
  },
  {
   "cell_type": "code",
   "execution_count": 3,
   "metadata": {},
   "outputs": [],
   "source": [
    "data = pd.read_csv(\"../../data/combined/processed/users_cn_news.csv\")\n",
    "data = data[[\"tweetId\", \"verified\", \"followers_count\", \"following_count\", \"tweet_count\", \"listed_count\", \"created_at\"]]\n",
    "\n",
    "labels_df = pd.read_csv(\"../../data/combined/processed/tweets_cn_news.csv\")\n",
    "labels_df = labels_df[[\"tweetId\", \"misleading\"]]\n",
    "labels_df.rename(columns={\"misleading\": \"label\"}, inplace=True)\n",
    "labels_df.label = labels_df.label.apply(lambda x: 1 if x else -1)\n",
    "\n",
    "data = pd.merge(data, labels_df, on=\"tweetId\")\n",
    "\n",
    "splits = pd.read_csv(\"../../data/combined/processed/splits.csv\")\n",
    "train_ids = set(splits[splits[\"split\"] == \"train\"][\"tweetId\"].values)\n",
    "val_ids = set(splits[splits[\"split\"] == \"val\"][\"tweetId\"].values)\n",
    "\n",
    "data_train = data[data[\"tweetId\"].isin(train_ids)]\n",
    "data_val = data[data[\"tweetId\"].isin(val_ids)]"
   ]
  },
  {
   "cell_type": "code",
   "execution_count": 4,
   "metadata": {},
   "outputs": [
    {
     "data": {
      "text/html": [
       "<div>\n",
       "<style scoped>\n",
       "    .dataframe tbody tr th:only-of-type {\n",
       "        vertical-align: middle;\n",
       "    }\n",
       "\n",
       "    .dataframe tbody tr th {\n",
       "        vertical-align: top;\n",
       "    }\n",
       "\n",
       "    .dataframe thead th {\n",
       "        text-align: right;\n",
       "    }\n",
       "</style>\n",
       "<table border=\"1\" class=\"dataframe\">\n",
       "  <thead>\n",
       "    <tr style=\"text-align: right;\">\n",
       "      <th></th>\n",
       "      <th>tweetId</th>\n",
       "      <th>verified</th>\n",
       "      <th>followers_count</th>\n",
       "      <th>following_count</th>\n",
       "      <th>tweet_count</th>\n",
       "      <th>listed_count</th>\n",
       "      <th>created_at</th>\n",
       "      <th>label</th>\n",
       "    </tr>\n",
       "  </thead>\n",
       "  <tbody>\n",
       "    <tr>\n",
       "      <th>0</th>\n",
       "      <td>1398781917097562117</td>\n",
       "      <td>0</td>\n",
       "      <td>743</td>\n",
       "      <td>584</td>\n",
       "      <td>14179</td>\n",
       "      <td>0</td>\n",
       "      <td>1298164547</td>\n",
       "      <td>1</td>\n",
       "    </tr>\n",
       "    <tr>\n",
       "      <th>1</th>\n",
       "      <td>1399409517637640193</td>\n",
       "      <td>0</td>\n",
       "      <td>311881</td>\n",
       "      <td>926</td>\n",
       "      <td>19709</td>\n",
       "      <td>934</td>\n",
       "      <td>1459021268</td>\n",
       "      <td>1</td>\n",
       "    </tr>\n",
       "    <tr>\n",
       "      <th>2</th>\n",
       "      <td>1399438157666557956</td>\n",
       "      <td>0</td>\n",
       "      <td>33348</td>\n",
       "      <td>1085</td>\n",
       "      <td>38544</td>\n",
       "      <td>278</td>\n",
       "      <td>1338947030</td>\n",
       "      <td>1</td>\n",
       "    </tr>\n",
       "    <tr>\n",
       "      <th>3</th>\n",
       "      <td>1399773024417689600</td>\n",
       "      <td>1</td>\n",
       "      <td>141753</td>\n",
       "      <td>2583</td>\n",
       "      <td>23923</td>\n",
       "      <td>2721</td>\n",
       "      <td>1306975918</td>\n",
       "      <td>1</td>\n",
       "    </tr>\n",
       "    <tr>\n",
       "      <th>4</th>\n",
       "      <td>1399775621069291520</td>\n",
       "      <td>0</td>\n",
       "      <td>13382</td>\n",
       "      <td>1014</td>\n",
       "      <td>12388</td>\n",
       "      <td>0</td>\n",
       "      <td>1233232636</td>\n",
       "      <td>1</td>\n",
       "    </tr>\n",
       "    <tr>\n",
       "      <th>...</th>\n",
       "      <td>...</td>\n",
       "      <td>...</td>\n",
       "      <td>...</td>\n",
       "      <td>...</td>\n",
       "      <td>...</td>\n",
       "      <td>...</td>\n",
       "      <td>...</td>\n",
       "      <td>...</td>\n",
       "    </tr>\n",
       "    <tr>\n",
       "      <th>10775</th>\n",
       "      <td>1447566135893929988</td>\n",
       "      <td>0</td>\n",
       "      <td>0</td>\n",
       "      <td>0</td>\n",
       "      <td>0</td>\n",
       "      <td>0</td>\n",
       "      <td>1671193465</td>\n",
       "      <td>1</td>\n",
       "    </tr>\n",
       "    <tr>\n",
       "      <th>10776</th>\n",
       "      <td>1497769670123925507</td>\n",
       "      <td>0</td>\n",
       "      <td>0</td>\n",
       "      <td>0</td>\n",
       "      <td>0</td>\n",
       "      <td>0</td>\n",
       "      <td>1671193465</td>\n",
       "      <td>1</td>\n",
       "    </tr>\n",
       "    <tr>\n",
       "      <th>10777</th>\n",
       "      <td>1557817195220049921</td>\n",
       "      <td>0</td>\n",
       "      <td>0</td>\n",
       "      <td>0</td>\n",
       "      <td>0</td>\n",
       "      <td>0</td>\n",
       "      <td>1671193465</td>\n",
       "      <td>-1</td>\n",
       "    </tr>\n",
       "    <tr>\n",
       "      <th>10778</th>\n",
       "      <td>1586105803144327168</td>\n",
       "      <td>0</td>\n",
       "      <td>0</td>\n",
       "      <td>0</td>\n",
       "      <td>0</td>\n",
       "      <td>0</td>\n",
       "      <td>1671193465</td>\n",
       "      <td>1</td>\n",
       "    </tr>\n",
       "    <tr>\n",
       "      <th>10779</th>\n",
       "      <td>1603164007745335297</td>\n",
       "      <td>0</td>\n",
       "      <td>0</td>\n",
       "      <td>0</td>\n",
       "      <td>0</td>\n",
       "      <td>0</td>\n",
       "      <td>1671193465</td>\n",
       "      <td>-1</td>\n",
       "    </tr>\n",
       "  </tbody>\n",
       "</table>\n",
       "<p>10780 rows × 8 columns</p>\n",
       "</div>"
      ],
      "text/plain": [
       "                   tweetId  verified  followers_count  following_count  \\\n",
       "0      1398781917097562117         0              743              584   \n",
       "1      1399409517637640193         0           311881              926   \n",
       "2      1399438157666557956         0            33348             1085   \n",
       "3      1399773024417689600         1           141753             2583   \n",
       "4      1399775621069291520         0            13382             1014   \n",
       "...                    ...       ...              ...              ...   \n",
       "10775  1447566135893929988         0                0                0   \n",
       "10776  1497769670123925507         0                0                0   \n",
       "10777  1557817195220049921         0                0                0   \n",
       "10778  1586105803144327168         0                0                0   \n",
       "10779  1603164007745335297         0                0                0   \n",
       "\n",
       "       tweet_count  listed_count  created_at  label  \n",
       "0            14179             0  1298164547      1  \n",
       "1            19709           934  1459021268      1  \n",
       "2            38544           278  1338947030      1  \n",
       "3            23923          2721  1306975918      1  \n",
       "4            12388             0  1233232636      1  \n",
       "...            ...           ...         ...    ...  \n",
       "10775            0             0  1671193465      1  \n",
       "10776            0             0  1671193465      1  \n",
       "10777            0             0  1671193465     -1  \n",
       "10778            0             0  1671193465      1  \n",
       "10779            0             0  1671193465     -1  \n",
       "\n",
       "[10780 rows x 8 columns]"
      ]
     },
     "execution_count": 4,
     "metadata": {},
     "output_type": "execute_result"
    }
   ],
   "source": [
    "data"
   ]
  },
  {
   "cell_type": "code",
   "execution_count": 5,
   "metadata": {},
   "outputs": [],
   "source": [
    "x_cols = [\"verified\", \"followers_count\", \"following_count\", \"tweet_count\", \"listed_count\", \"created_at\"]\n",
    "y_col = \"label\""
   ]
  },
  {
   "cell_type": "code",
   "execution_count": 6,
   "metadata": {},
   "outputs": [
    {
     "name": "stdout",
     "output_type": "stream",
     "text": [
      "                precision    recall  f1-score   support\n",
      "\n",
      "Not Misleading       0.66      0.36      0.47      1425\n",
      "    Misleading       0.34      0.63      0.44       731\n",
      "\n",
      "      accuracy                           0.46      2156\n",
      "     macro avg       0.50      0.50      0.46      2156\n",
      "  weighted avg       0.55      0.46      0.46      2156\n",
      "\n"
     ]
    }
   ],
   "source": [
    "model = svm.SVC(probability=True, class_weight=\"balanced\", C=1.0, verbose=False)\n",
    "model.fit(data_train[x_cols], data_train[y_col])\n",
    "preds = model.predict(data_val[x_cols])\n",
    "print(classification_report(data_val[y_col], preds, target_names=[\"Not Misleading\", \"Misleading\"]))"
   ]
  },
  {
   "cell_type": "code",
   "execution_count": 7,
   "metadata": {},
   "outputs": [
    {
     "name": "stdout",
     "output_type": "stream",
     "text": [
      "User score accuracy: 0.5445269016697588\n",
      "User score precision: 0.3409378960709759\n",
      "User score recall: 0.3679890560875513\n"
     ]
    }
   ],
   "source": [
    "print(\"User score accuracy:\", sklearn.metrics.accuracy_score(data_val[y_col], -preds))\n",
    "print(\"User score precision:\", sklearn.metrics.precision_score(data_val[y_col], -preds))\n",
    "print(\"User score recall:\", sklearn.metrics.recall_score(data_val[y_col], -preds))"
   ]
  },
  {
   "cell_type": "code",
   "execution_count": 8,
   "metadata": {},
   "outputs": [],
   "source": [
    "preds_all = model.predict(data[x_cols])\n",
    "\n",
    "preds_all_scores = model.predict_proba(data[x_cols])\n",
    "preds_all_scores = preds_all_scores[np.arange(preds_all_scores.shape[0]), preds_all]\n",
    "preds_all_scores = preds_all_scores * preds_all\n",
    "\n",
    "predictions = pd.DataFrame({\"tweetId\": data[\"tweetId\"], \"userlabel\": preds_all, \"userscore\": preds_all_scores})\n",
    "predictions.to_csv(\"userscores.csv\", index=False)"
   ]
  },
  {
   "cell_type": "code",
   "execution_count": null,
   "metadata": {},
   "outputs": [],
   "source": []
  }
 ],
 "metadata": {
  "kernelspec": {
   "display_name": "Python 3",
   "language": "python",
   "name": "python3"
  },
  "language_info": {
   "codemirror_mode": {
    "name": "ipython",
    "version": 3
   },
   "file_extension": ".py",
   "mimetype": "text/x-python",
   "name": "python",
   "nbconvert_exporter": "python",
   "pygments_lexer": "ipython3",
   "version": "3.10.8"
  },
  "orig_nbformat": 4,
  "vscode": {
   "interpreter": {
    "hash": "aee8b7b246df8f9039afb4144a1f6fd8d2ca17a180786b69acc140d282b71a49"
   }
  }
 },
 "nbformat": 4,
 "nbformat_minor": 2
}
